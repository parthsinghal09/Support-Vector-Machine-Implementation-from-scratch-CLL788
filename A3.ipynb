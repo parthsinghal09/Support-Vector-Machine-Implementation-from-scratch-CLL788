{
 "cells": [
  {
   "cell_type": "code",
   "execution_count": 1,
   "metadata": {},
   "outputs": [],
   "source": [
    "import pandas as pd\n",
    "import numpy as np \n",
    "import matplotlib.pyplot as plt\n",
    "import math\n",
    "import sys\n",
    "import subprocess\n",
    "#to install cvxopt \n",
    "subprocess.check_call([sys.executable, '-m', 'pip', 'install', 'cvxopt'])\n",
    "import cvxopt"
   ]
  },
  {
   "cell_type": "code",
   "execution_count": 2,
   "metadata": {},
   "outputs": [],
   "source": [
    "path1 = \"Data1.xlsx\"\n",
    "path2 = \"Data2.xlsx\""
   ]
  },
  {
   "cell_type": "markdown",
   "metadata": {},
   "source": [
    "# Q1 - Data 1 Visualization"
   ]
  },
  {
   "cell_type": "code",
   "execution_count": 3,
   "metadata": {},
   "outputs": [],
   "source": [
    "df1 = pd.read_excel(path1)"
   ]
  },
  {
   "cell_type": "code",
   "execution_count": 4,
   "metadata": {
    "scrolled": true
   },
   "outputs": [
    {
     "data": {
      "text/html": [
       "<div>\n",
       "<style scoped>\n",
       "    .dataframe tbody tr th:only-of-type {\n",
       "        vertical-align: middle;\n",
       "    }\n",
       "\n",
       "    .dataframe tbody tr th {\n",
       "        vertical-align: top;\n",
       "    }\n",
       "\n",
       "    .dataframe thead th {\n",
       "        text-align: right;\n",
       "    }\n",
       "</style>\n",
       "<table border=\"1\" class=\"dataframe\">\n",
       "  <thead>\n",
       "    <tr style=\"text-align: right;\">\n",
       "      <th></th>\n",
       "      <th>Variable 1</th>\n",
       "      <th>Variable 2</th>\n",
       "      <th>Class</th>\n",
       "    </tr>\n",
       "  </thead>\n",
       "  <tbody>\n",
       "    <tr>\n",
       "      <th>0</th>\n",
       "      <td>1.97430</td>\n",
       "      <td>4.6057</td>\n",
       "      <td>1</td>\n",
       "    </tr>\n",
       "    <tr>\n",
       "      <th>1</th>\n",
       "      <td>2.28530</td>\n",
       "      <td>3.8689</td>\n",
       "      <td>1</td>\n",
       "    </tr>\n",
       "    <tr>\n",
       "      <th>2</th>\n",
       "      <td>2.98810</td>\n",
       "      <td>4.5751</td>\n",
       "      <td>1</td>\n",
       "    </tr>\n",
       "    <tr>\n",
       "      <th>3</th>\n",
       "      <td>2.94200</td>\n",
       "      <td>3.5619</td>\n",
       "      <td>1</td>\n",
       "    </tr>\n",
       "    <tr>\n",
       "      <th>4</th>\n",
       "      <td>3.58720</td>\n",
       "      <td>2.8660</td>\n",
       "      <td>1</td>\n",
       "    </tr>\n",
       "    <tr>\n",
       "      <th>5</th>\n",
       "      <td>4.02500</td>\n",
       "      <td>3.2037</td>\n",
       "      <td>1</td>\n",
       "    </tr>\n",
       "    <tr>\n",
       "      <th>6</th>\n",
       "      <td>3.39140</td>\n",
       "      <td>3.4391</td>\n",
       "      <td>1</td>\n",
       "    </tr>\n",
       "    <tr>\n",
       "      <th>7</th>\n",
       "      <td>3.92130</td>\n",
       "      <td>4.1861</td>\n",
       "      <td>1</td>\n",
       "    </tr>\n",
       "    <tr>\n",
       "      <th>8</th>\n",
       "      <td>2.79220</td>\n",
       "      <td>4.0531</td>\n",
       "      <td>1</td>\n",
       "    </tr>\n",
       "    <tr>\n",
       "      <th>9</th>\n",
       "      <td>2.56180</td>\n",
       "      <td>4.6262</td>\n",
       "      <td>1</td>\n",
       "    </tr>\n",
       "    <tr>\n",
       "      <th>10</th>\n",
       "      <td>3.37980</td>\n",
       "      <td>3.9201</td>\n",
       "      <td>1</td>\n",
       "    </tr>\n",
       "    <tr>\n",
       "      <th>11</th>\n",
       "      <td>3.11480</td>\n",
       "      <td>3.0809</td>\n",
       "      <td>1</td>\n",
       "    </tr>\n",
       "    <tr>\n",
       "      <th>12</th>\n",
       "      <td>1.92820</td>\n",
       "      <td>4.0634</td>\n",
       "      <td>1</td>\n",
       "    </tr>\n",
       "    <tr>\n",
       "      <th>13</th>\n",
       "      <td>2.27380</td>\n",
       "      <td>4.3806</td>\n",
       "      <td>1</td>\n",
       "    </tr>\n",
       "    <tr>\n",
       "      <th>14</th>\n",
       "      <td>2.66550</td>\n",
       "      <td>3.5108</td>\n",
       "      <td>1</td>\n",
       "    </tr>\n",
       "    <tr>\n",
       "      <th>15</th>\n",
       "      <td>3.19550</td>\n",
       "      <td>4.2988</td>\n",
       "      <td>1</td>\n",
       "    </tr>\n",
       "    <tr>\n",
       "      <th>16</th>\n",
       "      <td>3.66790</td>\n",
       "      <td>3.8792</td>\n",
       "      <td>1</td>\n",
       "    </tr>\n",
       "    <tr>\n",
       "      <th>17</th>\n",
       "      <td>3.92130</td>\n",
       "      <td>3.4391</td>\n",
       "      <td>1</td>\n",
       "    </tr>\n",
       "    <tr>\n",
       "      <th>18</th>\n",
       "      <td>3.61020</td>\n",
       "      <td>3.1321</td>\n",
       "      <td>1</td>\n",
       "    </tr>\n",
       "    <tr>\n",
       "      <th>19</th>\n",
       "      <td>3.04570</td>\n",
       "      <td>3.3265</td>\n",
       "      <td>1</td>\n",
       "    </tr>\n",
       "    <tr>\n",
       "      <th>20</th>\n",
       "      <td>1.59410</td>\n",
       "      <td>3.3675</td>\n",
       "      <td>-1</td>\n",
       "    </tr>\n",
       "    <tr>\n",
       "      <th>21</th>\n",
       "      <td>2.02030</td>\n",
       "      <td>3.2139</td>\n",
       "      <td>-1</td>\n",
       "    </tr>\n",
       "    <tr>\n",
       "      <th>22</th>\n",
       "      <td>1.96270</td>\n",
       "      <td>2.7943</td>\n",
       "      <td>-1</td>\n",
       "    </tr>\n",
       "    <tr>\n",
       "      <th>23</th>\n",
       "      <td>2.28530</td>\n",
       "      <td>2.7227</td>\n",
       "      <td>-1</td>\n",
       "    </tr>\n",
       "    <tr>\n",
       "      <th>24</th>\n",
       "      <td>2.31990</td>\n",
       "      <td>2.9684</td>\n",
       "      <td>-1</td>\n",
       "    </tr>\n",
       "    <tr>\n",
       "      <th>25</th>\n",
       "      <td>2.83830</td>\n",
       "      <td>2.6409</td>\n",
       "      <td>-1</td>\n",
       "    </tr>\n",
       "    <tr>\n",
       "      <th>26</th>\n",
       "      <td>3.05730</td>\n",
       "      <td>2.3031</td>\n",
       "      <td>-1</td>\n",
       "    </tr>\n",
       "    <tr>\n",
       "      <th>27</th>\n",
       "      <td>2.49270</td>\n",
       "      <td>2.0473</td>\n",
       "      <td>-1</td>\n",
       "    </tr>\n",
       "    <tr>\n",
       "      <th>28</th>\n",
       "      <td>2.51570</td>\n",
       "      <td>2.3953</td>\n",
       "      <td>-1</td>\n",
       "    </tr>\n",
       "    <tr>\n",
       "      <th>29</th>\n",
       "      <td>1.88210</td>\n",
       "      <td>2.0677</td>\n",
       "      <td>-1</td>\n",
       "    </tr>\n",
       "    <tr>\n",
       "      <th>30</th>\n",
       "      <td>2.02030</td>\n",
       "      <td>2.3646</td>\n",
       "      <td>-1</td>\n",
       "    </tr>\n",
       "    <tr>\n",
       "      <th>31</th>\n",
       "      <td>1.23690</td>\n",
       "      <td>2.3339</td>\n",
       "      <td>-1</td>\n",
       "    </tr>\n",
       "    <tr>\n",
       "      <th>32</th>\n",
       "      <td>1.90510</td>\n",
       "      <td>2.9274</td>\n",
       "      <td>-1</td>\n",
       "    </tr>\n",
       "    <tr>\n",
       "      <th>33</th>\n",
       "      <td>1.57100</td>\n",
       "      <td>3.0809</td>\n",
       "      <td>-1</td>\n",
       "    </tr>\n",
       "    <tr>\n",
       "      <th>34</th>\n",
       "      <td>1.55950</td>\n",
       "      <td>2.7023</td>\n",
       "      <td>-1</td>\n",
       "    </tr>\n",
       "    <tr>\n",
       "      <th>35</th>\n",
       "      <td>1.69780</td>\n",
       "      <td>2.4157</td>\n",
       "      <td>-1</td>\n",
       "    </tr>\n",
       "    <tr>\n",
       "      <th>36</th>\n",
       "      <td>1.50190</td>\n",
       "      <td>2.0371</td>\n",
       "      <td>-1</td>\n",
       "    </tr>\n",
       "    <tr>\n",
       "      <th>37</th>\n",
       "      <td>0.97200</td>\n",
       "      <td>2.6920</td>\n",
       "      <td>-1</td>\n",
       "    </tr>\n",
       "    <tr>\n",
       "      <th>38</th>\n",
       "      <td>1.17930</td>\n",
       "      <td>2.9376</td>\n",
       "      <td>-1</td>\n",
       "    </tr>\n",
       "    <tr>\n",
       "      <th>39</th>\n",
       "      <td>0.82220</td>\n",
       "      <td>3.0092</td>\n",
       "      <td>-1</td>\n",
       "    </tr>\n",
       "    <tr>\n",
       "      <th>40</th>\n",
       "      <td>0.98350</td>\n",
       "      <td>3.3981</td>\n",
       "      <td>-1</td>\n",
       "    </tr>\n",
       "    <tr>\n",
       "      <th>41</th>\n",
       "      <td>1.26000</td>\n",
       "      <td>3.2037</td>\n",
       "      <td>-1</td>\n",
       "    </tr>\n",
       "    <tr>\n",
       "      <th>42</th>\n",
       "      <td>1.32910</td>\n",
       "      <td>3.5209</td>\n",
       "      <td>-1</td>\n",
       "    </tr>\n",
       "    <tr>\n",
       "      <th>43</th>\n",
       "      <td>2.23920</td>\n",
       "      <td>2.2110</td>\n",
       "      <td>-1</td>\n",
       "    </tr>\n",
       "    <tr>\n",
       "      <th>44</th>\n",
       "      <td>2.45820</td>\n",
       "      <td>2.6511</td>\n",
       "      <td>-1</td>\n",
       "    </tr>\n",
       "    <tr>\n",
       "      <th>45</th>\n",
       "      <td>2.80380</td>\n",
       "      <td>1.9756</td>\n",
       "      <td>-1</td>\n",
       "    </tr>\n",
       "    <tr>\n",
       "      <th>46</th>\n",
       "      <td>2.10100</td>\n",
       "      <td>1.6277</td>\n",
       "      <td>-1</td>\n",
       "    </tr>\n",
       "    <tr>\n",
       "      <th>47</th>\n",
       "      <td>2.55030</td>\n",
       "      <td>2.8967</td>\n",
       "      <td>-1</td>\n",
       "    </tr>\n",
       "    <tr>\n",
       "      <th>48</th>\n",
       "      <td>0.91440</td>\n",
       "      <td>3.0298</td>\n",
       "      <td>-1</td>\n",
       "    </tr>\n",
       "    <tr>\n",
       "      <th>49</th>\n",
       "      <td>0.77615</td>\n",
       "      <td>2.5999</td>\n",
       "      <td>-1</td>\n",
       "    </tr>\n",
       "  </tbody>\n",
       "</table>\n",
       "</div>"
      ],
      "text/plain": [
       "    Variable 1  Variable 2  Class\n",
       "0      1.97430      4.6057      1\n",
       "1      2.28530      3.8689      1\n",
       "2      2.98810      4.5751      1\n",
       "3      2.94200      3.5619      1\n",
       "4      3.58720      2.8660      1\n",
       "5      4.02500      3.2037      1\n",
       "6      3.39140      3.4391      1\n",
       "7      3.92130      4.1861      1\n",
       "8      2.79220      4.0531      1\n",
       "9      2.56180      4.6262      1\n",
       "10     3.37980      3.9201      1\n",
       "11     3.11480      3.0809      1\n",
       "12     1.92820      4.0634      1\n",
       "13     2.27380      4.3806      1\n",
       "14     2.66550      3.5108      1\n",
       "15     3.19550      4.2988      1\n",
       "16     3.66790      3.8792      1\n",
       "17     3.92130      3.4391      1\n",
       "18     3.61020      3.1321      1\n",
       "19     3.04570      3.3265      1\n",
       "20     1.59410      3.3675     -1\n",
       "21     2.02030      3.2139     -1\n",
       "22     1.96270      2.7943     -1\n",
       "23     2.28530      2.7227     -1\n",
       "24     2.31990      2.9684     -1\n",
       "25     2.83830      2.6409     -1\n",
       "26     3.05730      2.3031     -1\n",
       "27     2.49270      2.0473     -1\n",
       "28     2.51570      2.3953     -1\n",
       "29     1.88210      2.0677     -1\n",
       "30     2.02030      2.3646     -1\n",
       "31     1.23690      2.3339     -1\n",
       "32     1.90510      2.9274     -1\n",
       "33     1.57100      3.0809     -1\n",
       "34     1.55950      2.7023     -1\n",
       "35     1.69780      2.4157     -1\n",
       "36     1.50190      2.0371     -1\n",
       "37     0.97200      2.6920     -1\n",
       "38     1.17930      2.9376     -1\n",
       "39     0.82220      3.0092     -1\n",
       "40     0.98350      3.3981     -1\n",
       "41     1.26000      3.2037     -1\n",
       "42     1.32910      3.5209     -1\n",
       "43     2.23920      2.2110     -1\n",
       "44     2.45820      2.6511     -1\n",
       "45     2.80380      1.9756     -1\n",
       "46     2.10100      1.6277     -1\n",
       "47     2.55030      2.8967     -1\n",
       "48     0.91440      3.0298     -1\n",
       "49     0.77615      2.5999     -1"
      ]
     },
     "execution_count": 4,
     "metadata": {},
     "output_type": "execute_result"
    }
   ],
   "source": [
    "#Data1\n",
    "df1"
   ]
  },
  {
   "cell_type": "code",
   "execution_count": 5,
   "metadata": {},
   "outputs": [
    {
     "name": "stdout",
     "output_type": "stream",
     "text": [
      "4.0249999999999995   0.77615\n"
     ]
    }
   ],
   "source": [
    "#Maximum and Minimum values of Variable 1 in Data1 \n",
    "print(df1['Variable 1'].max(), \" \", df1['Variable 1'].min())"
   ]
  },
  {
   "cell_type": "code",
   "execution_count": 6,
   "metadata": {},
   "outputs": [
    {
     "name": "stdout",
     "output_type": "stream",
     "text": [
      "4.6262   1.6277\n"
     ]
    }
   ],
   "source": [
    "#Maximum and Minimum values of Variable 2 in Data1 \n",
    "print(df1['Variable 2'].max(), \" \", df1['Variable 2'].min())"
   ]
  },
  {
   "cell_type": "code",
   "execution_count": 7,
   "metadata": {},
   "outputs": [
    {
     "data": {
      "text/plain": [
       "(50, 2)"
      ]
     },
     "execution_count": 7,
     "metadata": {},
     "output_type": "execute_result"
    }
   ],
   "source": [
    "#Feature matrix for Data1\n",
    "X1 = df1.drop(['Class'], axis = 1).to_numpy()\n",
    "X1.shape"
   ]
  },
  {
   "cell_type": "code",
   "execution_count": 8,
   "metadata": {},
   "outputs": [
    {
     "data": {
      "text/plain": [
       "(50,)"
      ]
     },
     "execution_count": 8,
     "metadata": {},
     "output_type": "execute_result"
    }
   ],
   "source": [
    "#Class matrix for Data1\n",
    "Y11 = df1.drop(['Variable 1', 'Variable 2'], axis = 1).to_numpy()\n",
    "Y1 = np.reshape(Y11, (X1.shape[0],))\n",
    "Y1.shape"
   ]
  },
  {
   "cell_type": "code",
   "execution_count": 9,
   "metadata": {},
   "outputs": [
    {
     "data": {
      "image/png": "[encoded data removed]",
      "text/plain": [
       "<Figure size 432x432 with 1 Axes>"
      ]
     },
     "metadata": {
      "needs_background": "light"
     },
     "output_type": "display_data"
    }
   ],
   "source": [
    "#Scatter Plot for Data1\n",
    "fig = plt.figure(figsize = (6, 6))\n",
    "plt.scatter(*X1[Y1 == (-1)].T, s = 8, color = \"blue\", alpha = 0.5)\n",
    "plt.scatter(*X1[Y1 == 1].T, s = 8, color = \"red\", alpha = 0.5)\n",
    "plt.xlim(0.0, 5.0)\n",
    "plt.ylim(1.0, 5.0)\n",
    "plt.ylabel(r'$Variable 2$')\n",
    "plt.xlabel(r'$Variable 1$')\n",
    "plt.title(\"Data1\") \n",
    "#plt.savefig(\"C:\\Me\\sem6\\cll788\\A3\\Data1_scatter.jpeg\")\n",
    "plt.show()"
   ]
  },
  {
   "cell_type": "markdown",
   "metadata": {},
   "source": [
    "# Q2 - SVM Implementation on Data 1"
   ]
  },
  {
   "cell_type": "code",
   "execution_count": 10,
   "metadata": {},
   "outputs": [
    {
     "data": {
      "text/plain": [
       "(50, 1)"
      ]
     },
     "execution_count": 10,
     "metadata": {},
     "output_type": "execute_result"
    }
   ],
   "source": [
    "#tn\n",
    "tn = Y1\n",
    "tn = np.reshape(tn, (tn.shape[0], 1))\n",
    "tn.shape"
   ]
  },
  {
   "cell_type": "code",
   "execution_count": 11,
   "metadata": {},
   "outputs": [],
   "source": [
    "#H = tn*tm*xn.T*xm\n",
    "#P parameter for cvxopt solver\n",
    "a1 = tn*X1\n",
    "a2 = a1.T\n",
    "H = np.dot(a1, a2)"
   ]
  },
  {
   "cell_type": "code",
   "execution_count": 12,
   "metadata": {},
   "outputs": [],
   "source": [
    "size1 = X1.shape[0]\n",
    "#q parameter for cvxopt solver\n",
    "q = -1*np.ones((size1, 1))"
   ]
  },
  {
   "cell_type": "code",
   "execution_count": 13,
   "metadata": {},
   "outputs": [],
   "source": [
    "#G parameter for cvxopt solver\n",
    "G = -1*np.eye(size1)"
   ]
  },
  {
   "cell_type": "code",
   "execution_count": 14,
   "metadata": {},
   "outputs": [],
   "source": [
    "#h parameter for cvxopt solver\n",
    "#for this case we have h as a 0 matrix\n",
    "h = np.zeros((size1, 1))"
   ]
  },
  {
   "cell_type": "code",
   "execution_count": 15,
   "metadata": {},
   "outputs": [],
   "source": [
    "#A parameter for cvxopt solver\n",
    "A = tn.reshape(1, -1)\n",
    "A = A.astype('float')"
   ]
  },
  {
   "cell_type": "code",
   "execution_count": 16,
   "metadata": {},
   "outputs": [],
   "source": [
    "#b parameter for cvxopt solver\n",
    "b_cvx = np.zeros(1)"
   ]
  },
  {
   "cell_type": "code",
   "execution_count": 17,
   "metadata": {},
   "outputs": [
    {
     "name": "stdout",
     "output_type": "stream",
     "text": [
      "     pcost       dcost       gap    pres   dres\n",
      " 0: -9.8635e+00 -1.8817e+01  1e+02  1e+01  2e+00\n",
      " 1: -1.5021e+01 -1.0777e+01  2e+01  2e+00  3e-01\n",
      " 2: -1.2100e+01 -9.6312e+00  1e+01  9e-01  1e-01\n",
      " 3: -8.2568e+00 -8.0984e+00  2e+00  1e-01  2e-02\n",
      " 4: -7.9274e+00 -7.9429e+00  4e-02  1e-03  2e-04\n",
      " 5: -7.9397e+00 -7.9399e+00  4e-04  1e-05  2e-06\n",
      " 6: -7.9398e+00 -7.9398e+00  4e-06  1e-07  2e-08\n",
      " 7: -7.9398e+00 -7.9398e+00  4e-08  1e-09  2e-10\n",
      "Optimal solution found.\n"
     ]
    }
   ],
   "source": [
    "#cvxopt solver for quadratic optimization\n",
    "sol = cvxopt.solvers.qp(cvxopt.matrix(H), cvxopt.matrix(q), cvxopt.matrix(G), cvxopt.matrix(h), cvxopt.matrix(A), \n",
    "                        cvxopt.matrix(b_cvx))"
   ]
  },
  {
   "cell_type": "code",
   "execution_count": 18,
   "metadata": {},
   "outputs": [],
   "source": [
    "#lambda values\n",
    "lambdas = np.array(sol['x'])"
   ]
  },
  {
   "cell_type": "code",
   "execution_count": 19,
   "metadata": {},
   "outputs": [
    {
     "data": {
      "text/plain": [
       "array([[2.54140955],\n",
       "       [3.0693502 ]])"
      ]
     },
     "execution_count": 19,
     "metadata": {},
     "output_type": "execute_result"
    }
   ],
   "source": [
    "#weights\n",
    "w = np.dot(X1.T, (tn*lambdas))\n",
    "w"
   ]
  },
  {
   "cell_type": "code",
   "execution_count": 20,
   "metadata": {},
   "outputs": [],
   "source": [
    "#tolerance used to filter values with lambda>0\n",
    "tolerance = 0.000001"
   ]
  },
  {
   "cell_type": "code",
   "execution_count": 21,
   "metadata": {},
   "outputs": [
    {
     "name": "stdout",
     "output_type": "stream",
     "text": [
      "3\n",
      "(3, 2)\n",
      "(3, 1)\n"
     ]
    }
   ],
   "source": [
    "#filteration of points with lambda>tolerance \n",
    "Ns = 0\n",
    "xs = []\n",
    "ys = []\n",
    "for i in range(lambdas.shape[0]):\n",
    "    if lambdas[i]>=tolerance:\n",
    "        Ns = Ns + 1\n",
    "        xs.append(X1[i])\n",
    "        ys.append(tn[i])\n",
    "xs = np.array(xs)\n",
    "ys = np.array(ys)\n",
    "print(Ns)\n",
    "print(xs.shape)\n",
    "print(ys.shape)"
   ]
  },
  {
   "cell_type": "code",
   "execution_count": 22,
   "metadata": {},
   "outputs": [
    {
     "data": {
      "text/plain": [
       "(3, 1)"
      ]
     },
     "execution_count": 22,
     "metadata": {},
     "output_type": "execute_result"
    }
   ],
   "source": [
    "bn = ys - np.dot(xs, w) \n",
    "bn.shape"
   ]
  },
  {
   "cell_type": "code",
   "execution_count": 23,
   "metadata": {},
   "outputs": [
    {
     "name": "stdout",
     "output_type": "stream",
     "text": [
      "[-16.372343517060063]\n"
     ]
    }
   ],
   "source": [
    "#bias term\n",
    "b = 0\n",
    "for i in range(bn.shape[0]):\n",
    "    b = b + bn[i][0]\n",
    "b = [b/Ns]\n",
    "print(b)"
   ]
  },
  {
   "cell_type": "code",
   "execution_count": 24,
   "metadata": {},
   "outputs": [],
   "source": [
    "#prediction function y = w.T*x + b\n",
    "def predict1(w, b, x):\n",
    "    \n",
    "    m, n = x.shape\n",
    "    y = []\n",
    "    \n",
    "    for i in range(m):\n",
    "        y.append(((w[0]*x[i][0] + w[1]*x[i][1] + b)))\n",
    "                 \n",
    "    yn = np.array(y)\n",
    "                 \n",
    "    return yn"
   ]
  },
  {
   "cell_type": "code",
   "execution_count": 25,
   "metadata": {},
   "outputs": [
    {
     "data": {
      "text/plain": [
       "(50, 1)"
      ]
     },
     "execution_count": 25,
     "metadata": {},
     "output_type": "execute_result"
    }
   ],
   "source": [
    "#predicted values\n",
    "y_p = predict1(w, b, X1)\n",
    "y_p.shape"
   ]
  },
  {
   "cell_type": "code",
   "execution_count": 26,
   "metadata": {},
   "outputs": [
    {
     "name": "stdout",
     "output_type": "stream",
     "text": [
      "accuracy =  98.0 %\n"
     ]
    }
   ],
   "source": [
    "#accuracy computation \n",
    "count = 0\n",
    "for i in range(y_p.shape[0]):\n",
    "    if y_p[i][0]>=1:\n",
    "        y_p[i] = 1\n",
    "    else:\n",
    "        y_p[i] = -1\n",
    "    if tn[i] == y_p[i]:\n",
    "        count = count + 1\n",
    "print(\"accuracy = \", (count/y_p.shape[0])*100, \"%\")"
   ]
  },
  {
   "cell_type": "code",
   "execution_count": 27,
   "metadata": {},
   "outputs": [],
   "source": [
    "y_p = y_p.reshape(y_p.shape[0], )"
   ]
  },
  {
   "cell_type": "code",
   "execution_count": 28,
   "metadata": {},
   "outputs": [
    {
     "data": {
      "text/plain": [
       "5.3341399416933974"
      ]
     },
     "execution_count": 28,
     "metadata": {},
     "output_type": "execute_result"
    }
   ],
   "source": [
    "#intercept of decision function\n",
    "c = -b[0]/w[1][0]\n",
    "c"
   ]
  },
  {
   "cell_type": "code",
   "execution_count": 29,
   "metadata": {},
   "outputs": [
    {
     "data": {
      "text/plain": [
       "-0.827995954766148"
      ]
     },
     "execution_count": 29,
     "metadata": {},
     "output_type": "execute_result"
    }
   ],
   "source": [
    "#slope of decisin function\n",
    "slope = -w[0][0]/w[1][0]\n",
    "slope"
   ]
  },
  {
   "cell_type": "code",
   "execution_count": 30,
   "metadata": {},
   "outputs": [
    {
     "data": {
      "text/plain": [
       "(5.659941799938993, 5.008338083447802)"
      ]
     },
     "execution_count": 30,
     "metadata": {},
     "output_type": "execute_result"
    }
   ],
   "source": [
    "#intercepts for line passing through support vectors\n",
    "c11 = c + math.sqrt((1 + slope*slope))/math.sqrt((w[0][0]*w[0][0] + w[1][0]*w[1][0]))\n",
    "c12 = c - math.sqrt((1 + slope*slope))/math.sqrt((w[0][0]*w[0][0] + w[1][0]*w[1][0]))\n",
    "(c11, c12)"
   ]
  },
  {
   "cell_type": "code",
   "execution_count": 31,
   "metadata": {},
   "outputs": [
    {
     "data": {
      "image/png": "[encoded data removed]",
      "text/plain": [
       "<Figure size 432x432 with 1 Axes>"
      ]
     },
     "metadata": {
      "needs_background": "light"
     },
     "output_type": "display_data"
    }
   ],
   "source": [
    "#scatter plot with decision boundary on predicted values\n",
    "fig = plt.figure(figsize = (6, 6))\n",
    "xl = np.array([0.0, 5.0])\n",
    "yl = slope*xl + c\n",
    "yl1 = slope*xl + c11\n",
    "yl2 = slope*xl + c12\n",
    "plt.plot(xl, yl, \"k\", lw = 1, ls = \"-\")\n",
    "plt.plot(xl, yl1, \"k\", lw = 1, ls = \"--\")\n",
    "plt.plot(xl, yl2, \"k\", lw = 1, ls = \"--\")\n",
    "\n",
    "plt.scatter(*X1[y_p == (-1)].T, s = 20, color = \"blue\", alpha = 1.0)\n",
    "plt.scatter(*X1[y_p == 1].T, s = 20, color = \"red\", alpha = 1.0)\n",
    "plt.xlim(0.0, 5.0)\n",
    "plt.ylim(1.0, 5.0)\n",
    "plt.ylabel(r'$Variable 2$')\n",
    "plt.xlabel(r'$Variable 1$')\n",
    "plt.title(\"SVM predicted Data 1\") \n",
    "#plt.savefig(\"C:\\Me\\sem6\\cll788\\A3\\Data1_svm.jpeg\")\n",
    "plt.show()"
   ]
  },
  {
   "cell_type": "markdown",
   "metadata": {},
   "source": [
    "# Q3 - Modified SVM on Data 2 "
   ]
  },
  {
   "cell_type": "code",
   "execution_count": 32,
   "metadata": {},
   "outputs": [],
   "source": [
    "df2 = pd.read_excel(path2)"
   ]
  },
  {
   "cell_type": "code",
   "execution_count": 33,
   "metadata": {
    "scrolled": true
   },
   "outputs": [
    {
     "data": {
      "text/html": [
       "<div>\n",
       "<style scoped>\n",
       "    .dataframe tbody tr th:only-of-type {\n",
       "        vertical-align: middle;\n",
       "    }\n",
       "\n",
       "    .dataframe tbody tr th {\n",
       "        vertical-align: top;\n",
       "    }\n",
       "\n",
       "    .dataframe thead th {\n",
       "        text-align: right;\n",
       "    }\n",
       "</style>\n",
       "<table border=\"1\" class=\"dataframe\">\n",
       "  <thead>\n",
       "    <tr style=\"text-align: right;\">\n",
       "      <th></th>\n",
       "      <th>Variable 1</th>\n",
       "      <th>Variable 2</th>\n",
       "      <th>Class</th>\n",
       "    </tr>\n",
       "  </thead>\n",
       "  <tbody>\n",
       "    <tr>\n",
       "      <th>0</th>\n",
       "      <td>1.9743</td>\n",
       "      <td>4.6057</td>\n",
       "      <td>1</td>\n",
       "    </tr>\n",
       "    <tr>\n",
       "      <th>1</th>\n",
       "      <td>2.2853</td>\n",
       "      <td>3.8689</td>\n",
       "      <td>1</td>\n",
       "    </tr>\n",
       "    <tr>\n",
       "      <th>2</th>\n",
       "      <td>2.9881</td>\n",
       "      <td>4.5751</td>\n",
       "      <td>1</td>\n",
       "    </tr>\n",
       "    <tr>\n",
       "      <th>3</th>\n",
       "      <td>2.9421</td>\n",
       "      <td>3.5619</td>\n",
       "      <td>1</td>\n",
       "    </tr>\n",
       "    <tr>\n",
       "      <th>4</th>\n",
       "      <td>3.5872</td>\n",
       "      <td>2.8669</td>\n",
       "      <td>1</td>\n",
       "    </tr>\n",
       "    <tr>\n",
       "      <th>5</th>\n",
       "      <td>4.0251</td>\n",
       "      <td>3.2037</td>\n",
       "      <td>1</td>\n",
       "    </tr>\n",
       "    <tr>\n",
       "      <th>6</th>\n",
       "      <td>2.2134</td>\n",
       "      <td>2.8541</td>\n",
       "      <td>1</td>\n",
       "    </tr>\n",
       "    <tr>\n",
       "      <th>7</th>\n",
       "      <td>3.3914</td>\n",
       "      <td>3.4391</td>\n",
       "      <td>1</td>\n",
       "    </tr>\n",
       "    <tr>\n",
       "      <th>8</th>\n",
       "      <td>3.9213</td>\n",
       "      <td>4.1861</td>\n",
       "      <td>1</td>\n",
       "    </tr>\n",
       "    <tr>\n",
       "      <th>9</th>\n",
       "      <td>2.7922</td>\n",
       "      <td>4.0531</td>\n",
       "      <td>1</td>\n",
       "    </tr>\n",
       "    <tr>\n",
       "      <th>10</th>\n",
       "      <td>0.1103</td>\n",
       "      <td>3.8129</td>\n",
       "      <td>1</td>\n",
       "    </tr>\n",
       "    <tr>\n",
       "      <th>11</th>\n",
       "      <td>0.0864</td>\n",
       "      <td>4.1045</td>\n",
       "      <td>1</td>\n",
       "    </tr>\n",
       "    <tr>\n",
       "      <th>12</th>\n",
       "      <td>2.5618</td>\n",
       "      <td>4.6262</td>\n",
       "      <td>1</td>\n",
       "    </tr>\n",
       "    <tr>\n",
       "      <th>13</th>\n",
       "      <td>3.3798</td>\n",
       "      <td>3.9201</td>\n",
       "      <td>1</td>\n",
       "    </tr>\n",
       "    <tr>\n",
       "      <th>14</th>\n",
       "      <td>3.1148</td>\n",
       "      <td>3.0809</td>\n",
       "      <td>1</td>\n",
       "    </tr>\n",
       "    <tr>\n",
       "      <th>15</th>\n",
       "      <td>1.9282</td>\n",
       "      <td>4.0634</td>\n",
       "      <td>1</td>\n",
       "    </tr>\n",
       "    <tr>\n",
       "      <th>16</th>\n",
       "      <td>2.2738</td>\n",
       "      <td>4.3806</td>\n",
       "      <td>1</td>\n",
       "    </tr>\n",
       "    <tr>\n",
       "      <th>17</th>\n",
       "      <td>2.6655</td>\n",
       "      <td>3.5108</td>\n",
       "      <td>1</td>\n",
       "    </tr>\n",
       "    <tr>\n",
       "      <th>18</th>\n",
       "      <td>3.1955</td>\n",
       "      <td>4.2988</td>\n",
       "      <td>1</td>\n",
       "    </tr>\n",
       "    <tr>\n",
       "      <th>19</th>\n",
       "      <td>3.6679</td>\n",
       "      <td>3.8792</td>\n",
       "      <td>1</td>\n",
       "    </tr>\n",
       "    <tr>\n",
       "      <th>20</th>\n",
       "      <td>3.9213</td>\n",
       "      <td>3.4391</td>\n",
       "      <td>1</td>\n",
       "    </tr>\n",
       "    <tr>\n",
       "      <th>21</th>\n",
       "      <td>3.6102</td>\n",
       "      <td>3.1321</td>\n",
       "      <td>1</td>\n",
       "    </tr>\n",
       "    <tr>\n",
       "      <th>22</th>\n",
       "      <td>3.0457</td>\n",
       "      <td>3.3265</td>\n",
       "      <td>1</td>\n",
       "    </tr>\n",
       "    <tr>\n",
       "      <th>23</th>\n",
       "      <td>1.5941</td>\n",
       "      <td>3.3675</td>\n",
       "      <td>-1</td>\n",
       "    </tr>\n",
       "    <tr>\n",
       "      <th>24</th>\n",
       "      <td>2.0203</td>\n",
       "      <td>3.2139</td>\n",
       "      <td>-1</td>\n",
       "    </tr>\n",
       "    <tr>\n",
       "      <th>25</th>\n",
       "      <td>1.9627</td>\n",
       "      <td>2.7943</td>\n",
       "      <td>-1</td>\n",
       "    </tr>\n",
       "    <tr>\n",
       "      <th>26</th>\n",
       "      <td>2.2853</td>\n",
       "      <td>2.7227</td>\n",
       "      <td>-1</td>\n",
       "    </tr>\n",
       "    <tr>\n",
       "      <th>27</th>\n",
       "      <td>2.3199</td>\n",
       "      <td>2.9684</td>\n",
       "      <td>-1</td>\n",
       "    </tr>\n",
       "    <tr>\n",
       "      <th>28</th>\n",
       "      <td>2.8383</td>\n",
       "      <td>2.6409</td>\n",
       "      <td>-1</td>\n",
       "    </tr>\n",
       "    <tr>\n",
       "      <th>29</th>\n",
       "      <td>3.0573</td>\n",
       "      <td>2.3031</td>\n",
       "      <td>-1</td>\n",
       "    </tr>\n",
       "    <tr>\n",
       "      <th>30</th>\n",
       "      <td>2.4927</td>\n",
       "      <td>2.0473</td>\n",
       "      <td>-1</td>\n",
       "    </tr>\n",
       "    <tr>\n",
       "      <th>31</th>\n",
       "      <td>2.5157</td>\n",
       "      <td>2.3953</td>\n",
       "      <td>-1</td>\n",
       "    </tr>\n",
       "    <tr>\n",
       "      <th>32</th>\n",
       "      <td>1.8821</td>\n",
       "      <td>2.0677</td>\n",
       "      <td>-1</td>\n",
       "    </tr>\n",
       "    <tr>\n",
       "      <th>33</th>\n",
       "      <td>2.0203</td>\n",
       "      <td>2.3646</td>\n",
       "      <td>-1</td>\n",
       "    </tr>\n",
       "    <tr>\n",
       "      <th>34</th>\n",
       "      <td>1.2369</td>\n",
       "      <td>2.3339</td>\n",
       "      <td>-1</td>\n",
       "    </tr>\n",
       "    <tr>\n",
       "      <th>35</th>\n",
       "      <td>1.9051</td>\n",
       "      <td>2.9274</td>\n",
       "      <td>-1</td>\n",
       "    </tr>\n",
       "    <tr>\n",
       "      <th>36</th>\n",
       "      <td>1.5710</td>\n",
       "      <td>3.0809</td>\n",
       "      <td>-1</td>\n",
       "    </tr>\n",
       "    <tr>\n",
       "      <th>37</th>\n",
       "      <td>1.5595</td>\n",
       "      <td>2.7023</td>\n",
       "      <td>-1</td>\n",
       "    </tr>\n",
       "    <tr>\n",
       "      <th>38</th>\n",
       "      <td>1.6978</td>\n",
       "      <td>2.4157</td>\n",
       "      <td>-1</td>\n",
       "    </tr>\n",
       "    <tr>\n",
       "      <th>39</th>\n",
       "      <td>1.5019</td>\n",
       "      <td>2.0371</td>\n",
       "      <td>-1</td>\n",
       "    </tr>\n",
       "    <tr>\n",
       "      <th>40</th>\n",
       "      <td>0.9720</td>\n",
       "      <td>2.6920</td>\n",
       "      <td>-1</td>\n",
       "    </tr>\n",
       "    <tr>\n",
       "      <th>41</th>\n",
       "      <td>1.1793</td>\n",
       "      <td>2.9376</td>\n",
       "      <td>-1</td>\n",
       "    </tr>\n",
       "    <tr>\n",
       "      <th>42</th>\n",
       "      <td>0.8222</td>\n",
       "      <td>3.0092</td>\n",
       "      <td>-1</td>\n",
       "    </tr>\n",
       "    <tr>\n",
       "      <th>43</th>\n",
       "      <td>0.9835</td>\n",
       "      <td>3.3981</td>\n",
       "      <td>-1</td>\n",
       "    </tr>\n",
       "    <tr>\n",
       "      <th>44</th>\n",
       "      <td>1.2618</td>\n",
       "      <td>3.2037</td>\n",
       "      <td>-1</td>\n",
       "    </tr>\n",
       "    <tr>\n",
       "      <th>45</th>\n",
       "      <td>3.7239</td>\n",
       "      <td>2.8310</td>\n",
       "      <td>-1</td>\n",
       "    </tr>\n",
       "    <tr>\n",
       "      <th>46</th>\n",
       "      <td>1.3291</td>\n",
       "      <td>3.5209</td>\n",
       "      <td>-1</td>\n",
       "    </tr>\n",
       "    <tr>\n",
       "      <th>47</th>\n",
       "      <td>2.2392</td>\n",
       "      <td>2.2110</td>\n",
       "      <td>-1</td>\n",
       "    </tr>\n",
       "    <tr>\n",
       "      <th>48</th>\n",
       "      <td>2.4582</td>\n",
       "      <td>2.6511</td>\n",
       "      <td>-1</td>\n",
       "    </tr>\n",
       "    <tr>\n",
       "      <th>49</th>\n",
       "      <td>2.8038</td>\n",
       "      <td>1.9756</td>\n",
       "      <td>-1</td>\n",
       "    </tr>\n",
       "    <tr>\n",
       "      <th>50</th>\n",
       "      <td>2.1010</td>\n",
       "      <td>1.6277</td>\n",
       "      <td>-1</td>\n",
       "    </tr>\n",
       "    <tr>\n",
       "      <th>51</th>\n",
       "      <td>2.5503</td>\n",
       "      <td>2.8967</td>\n",
       "      <td>-1</td>\n",
       "    </tr>\n",
       "    <tr>\n",
       "      <th>52</th>\n",
       "      <td>0.9144</td>\n",
       "      <td>3.0298</td>\n",
       "      <td>-1</td>\n",
       "    </tr>\n",
       "    <tr>\n",
       "      <th>53</th>\n",
       "      <td>0.7761</td>\n",
       "      <td>2.5999</td>\n",
       "      <td>-1</td>\n",
       "    </tr>\n",
       "    <tr>\n",
       "      <th>54</th>\n",
       "      <td>4.3111</td>\n",
       "      <td>3.5628</td>\n",
       "      <td>-1</td>\n",
       "    </tr>\n",
       "  </tbody>\n",
       "</table>\n",
       "</div>"
      ],
      "text/plain": [
       "    Variable 1  Variable 2  Class\n",
       "0       1.9743      4.6057      1\n",
       "1       2.2853      3.8689      1\n",
       "2       2.9881      4.5751      1\n",
       "3       2.9421      3.5619      1\n",
       "4       3.5872      2.8669      1\n",
       "5       4.0251      3.2037      1\n",
       "6       2.2134      2.8541      1\n",
       "7       3.3914      3.4391      1\n",
       "8       3.9213      4.1861      1\n",
       "9       2.7922      4.0531      1\n",
       "10      0.1103      3.8129      1\n",
       "11      0.0864      4.1045      1\n",
       "12      2.5618      4.6262      1\n",
       "13      3.3798      3.9201      1\n",
       "14      3.1148      3.0809      1\n",
       "15      1.9282      4.0634      1\n",
       "16      2.2738      4.3806      1\n",
       "17      2.6655      3.5108      1\n",
       "18      3.1955      4.2988      1\n",
       "19      3.6679      3.8792      1\n",
       "20      3.9213      3.4391      1\n",
       "21      3.6102      3.1321      1\n",
       "22      3.0457      3.3265      1\n",
       "23      1.5941      3.3675     -1\n",
       "24      2.0203      3.2139     -1\n",
       "25      1.9627      2.7943     -1\n",
       "26      2.2853      2.7227     -1\n",
       "27      2.3199      2.9684     -1\n",
       "28      2.8383      2.6409     -1\n",
       "29      3.0573      2.3031     -1\n",
       "30      2.4927      2.0473     -1\n",
       "31      2.5157      2.3953     -1\n",
       "32      1.8821      2.0677     -1\n",
       "33      2.0203      2.3646     -1\n",
       "34      1.2369      2.3339     -1\n",
       "35      1.9051      2.9274     -1\n",
       "36      1.5710      3.0809     -1\n",
       "37      1.5595      2.7023     -1\n",
       "38      1.6978      2.4157     -1\n",
       "39      1.5019      2.0371     -1\n",
       "40      0.9720      2.6920     -1\n",
       "41      1.1793      2.9376     -1\n",
       "42      0.8222      3.0092     -1\n",
       "43      0.9835      3.3981     -1\n",
       "44      1.2618      3.2037     -1\n",
       "45      3.7239      2.8310     -1\n",
       "46      1.3291      3.5209     -1\n",
       "47      2.2392      2.2110     -1\n",
       "48      2.4582      2.6511     -1\n",
       "49      2.8038      1.9756     -1\n",
       "50      2.1010      1.6277     -1\n",
       "51      2.5503      2.8967     -1\n",
       "52      0.9144      3.0298     -1\n",
       "53      0.7761      2.5999     -1\n",
       "54      4.3111      3.5628     -1"
      ]
     },
     "execution_count": 33,
     "metadata": {},
     "output_type": "execute_result"
    }
   ],
   "source": [
    "#Data2\n",
    "df2"
   ]
  },
  {
   "cell_type": "code",
   "execution_count": 34,
   "metadata": {},
   "outputs": [
    {
     "name": "stdout",
     "output_type": "stream",
     "text": [
      "4.3111   0.0864\n"
     ]
    }
   ],
   "source": [
    "#Maximum and Minimum values of Variable 1 in Data2\n",
    "print(df2['Variable 1'].max(), \" \", df2['Variable 1'].min())"
   ]
  },
  {
   "cell_type": "code",
   "execution_count": 35,
   "metadata": {},
   "outputs": [
    {
     "name": "stdout",
     "output_type": "stream",
     "text": [
      "4.6262   1.6277\n"
     ]
    }
   ],
   "source": [
    "#Maximum and Minimum values of Variable 1 in Data2\n",
    "print(df2['Variable 2'].max(), \" \", df2['Variable 2'].min())"
   ]
  },
  {
   "cell_type": "code",
   "execution_count": 36,
   "metadata": {},
   "outputs": [
    {
     "data": {
      "text/plain": [
       "(55, 2)"
      ]
     },
     "execution_count": 36,
     "metadata": {},
     "output_type": "execute_result"
    }
   ],
   "source": [
    "#Feature matrix for Data2\n",
    "X2 = df2.drop(['Class'], axis = 1).to_numpy()\n",
    "X2.shape"
   ]
  },
  {
   "cell_type": "code",
   "execution_count": 37,
   "metadata": {},
   "outputs": [
    {
     "data": {
      "text/plain": [
       "(55,)"
      ]
     },
     "execution_count": 37,
     "metadata": {},
     "output_type": "execute_result"
    }
   ],
   "source": [
    "#Class matrix for Data2\n",
    "Y21 = df2.drop(['Variable 1', 'Variable 2'], axis = 1).to_numpy()\n",
    "Y2 = np.reshape(Y21, (X2.shape[0],))\n",
    "Y2.shape"
   ]
  },
  {
   "cell_type": "code",
   "execution_count": 38,
   "metadata": {},
   "outputs": [
    {
     "data": {
      "image/png": "[encoded data removed]",
      "text/plain": [
       "<Figure size 432x432 with 1 Axes>"
      ]
     },
     "metadata": {
      "needs_background": "light"
     },
     "output_type": "display_data"
    }
   ],
   "source": [
    "#Scatter plot for Data2\n",
    "fig = plt.figure(figsize = (6, 6))\n",
    "plt.scatter(*X2[Y2 == (-1)].T, s = 8, color = \"blue\", alpha = 0.5)\n",
    "plt.scatter(*X2[Y2 == 1].T, s = 8, color = \"red\", alpha = 0.5)\n",
    "plt.xlim(0.0, 5.0)\n",
    "plt.ylim(1.0, 5.0)\n",
    "plt.ylabel(r'$Variable 2$')\n",
    "plt.xlabel(r'$Variable 1$')\n",
    "plt.title(\"Data2\") \n",
    "#plt.savefig(\"C:\\Me\\sem6\\cll788\\A3\\Data2_scatter.jpeg\")\n",
    "plt.show()"
   ]
  },
  {
   "cell_type": "code",
   "execution_count": 39,
   "metadata": {},
   "outputs": [],
   "source": [
    "#Prediction function y = w.T*x + b\n",
    "def predict2(w, b, x):\n",
    "    \n",
    "    m, n = x.shape\n",
    "    y = []\n",
    "    \n",
    "    for i in range(m):\n",
    "        y.append(((w[0]*x[i][0] + w[1]*x[i][1] + b)))\n",
    "                 \n",
    "    yn = np.array(y)\n",
    "                 \n",
    "    return yn"
   ]
  },
  {
   "cell_type": "code",
   "execution_count": 40,
   "metadata": {},
   "outputs": [],
   "source": [
    "#Different values of C \n",
    "C = [0.01, 0.1, 1, 10, 100, 1000, 10000, 100000, 1000000, 10000000]"
   ]
  },
  {
   "cell_type": "code",
   "execution_count": 41,
   "metadata": {},
   "outputs": [
    {
     "data": {
      "text/plain": [
       "(55, 1)"
      ]
     },
     "execution_count": 41,
     "metadata": {},
     "output_type": "execute_result"
    }
   ],
   "source": [
    "#tn for Data2\n",
    "tn2 = Y2\n",
    "tn2 = np.reshape(tn2, (tn2.shape[0], 1))\n",
    "tn2.shape"
   ]
  },
  {
   "cell_type": "code",
   "execution_count": 42,
   "metadata": {},
   "outputs": [],
   "source": [
    "#Weight, Bias, Accuracy and Prediction matrices for different values of C\n",
    "W = []\n",
    "B = []\n",
    "Accuracy = []\n",
    "Y_P = []"
   ]
  },
  {
   "cell_type": "code",
   "execution_count": 43,
   "metadata": {
    "scrolled": true
   },
   "outputs": [
    {
     "name": "stdout",
     "output_type": "stream",
     "text": [
      "     pcost       dcost       gap    pres   dres\n",
      " 0: -1.1037e+01 -1.5711e+00  4e+02  2e+01  1e-14\n",
      " 1: -8.6740e-01 -1.5053e+00  1e+01  5e-01  1e-14\n",
      " 2: -3.8906e-01 -1.1627e+00  8e-01  4e-03  1e-15\n",
      " 3: -4.0580e-01 -5.0648e-01  1e-01  5e-04  7e-16\n",
      " 4: -4.1626e-01 -4.4803e-01  3e-02  1e-04  4e-16\n",
      " 5: -4.2540e-01 -4.3068e-01  5e-03  8e-06  5e-16\n",
      " 6: -4.2696e-01 -4.2856e-01  2e-03  1e-06  5e-16\n",
      " 7: -4.2751e-01 -4.2774e-01  2e-04  1e-07  5e-16\n",
      " 8: -4.2760e-01 -4.2764e-01  4e-05  1e-08  5e-16\n",
      " 9: -4.2762e-01 -4.2762e-01  5e-07  1e-10  4e-16\n",
      "10: -4.2762e-01 -4.2762e-01  5e-09  1e-12  5e-16\n",
      "Optimal solution found.\n",
      "     pcost       dcost       gap    pres   dres\n",
      " 0: -1.1980e+01 -1.2049e+01  4e+02  2e+01  1e-14\n",
      " 1: -2.1122e+00 -1.1472e+01  1e+01  2e-01  1e-14\n",
      " 2: -2.1269e+00 -3.1536e+00  1e+00  1e-03  3e-15\n",
      " 3: -2.5606e+00 -2.7559e+00  2e-01  2e-04  3e-15\n",
      " 4: -2.6672e+00 -2.6839e+00  2e-02  1e-05  4e-15\n",
      " 5: -2.6756e+00 -2.6759e+00  3e-04  2e-07  4e-15\n",
      " 6: -2.6758e+00 -2.6758e+00  3e-06  2e-09  3e-15\n",
      " 7: -2.6758e+00 -2.6758e+00  3e-08  2e-11  3e-15\n",
      "Optimal solution found.\n",
      "     pcost       dcost       gap    pres   dres\n",
      " 0: -2.1039e+01 -1.2166e+02  5e+02  3e+00  2e-14\n",
      " 1: -1.3384e+01 -7.5093e+01  9e+01  2e-01  2e-14\n",
      " 2: -1.3340e+01 -2.2498e+01  1e+01  2e-02  2e-14\n",
      " 3: -1.5825e+01 -1.8128e+01  2e+00  4e-03  2e-14\n",
      " 4: -1.6528e+01 -1.7092e+01  6e-01  6e-04  2e-14\n",
      " 5: -1.6681e+01 -1.6869e+01  2e-01  1e-04  2e-14\n",
      " 6: -1.6741e+01 -1.6797e+01  6e-02  3e-05  2e-14\n",
      " 7: -1.6767e+01 -1.6769e+01  2e-03  5e-07  2e-14\n",
      " 8: -1.6768e+01 -1.6768e+01  3e-05  6e-09  2e-14\n",
      " 9: -1.6768e+01 -1.6768e+01  3e-07  6e-11  2e-14\n",
      "Optimal solution found.\n",
      "     pcost       dcost       gap    pres   dres\n",
      " 0: -7.4905e+01 -3.4610e+03  7e+03  6e-01  1e-13\n",
      " 1: -2.4163e+01 -7.1857e+02  7e+02  3e-03  1e-13\n",
      " 2: -9.1896e+01 -2.1496e+02  1e+02  4e-04  1e-13\n",
      " 3: -1.1694e+02 -1.7234e+02  6e+01  1e-04  1e-13\n",
      " 4: -1.2643e+02 -1.6103e+02  3e+01  8e-05  1e-13\n",
      " 5: -1.3349e+02 -1.4740e+02  1e+01  1e-05  1e-13\n",
      " 6: -1.3626e+02 -1.4248e+02  6e+00  3e-06  1e-13\n",
      " 7: -1.3868e+02 -1.3953e+02  8e-01  9e-15  2e-13\n",
      " 8: -1.3904e+02 -1.3907e+02  3e-02  4e-15  1e-13\n",
      " 9: -1.3905e+02 -1.3905e+02  3e-04  1e-14  1e-13\n",
      "10: -1.3905e+02 -1.3905e+02  3e-06  1e-14  1e-13\n",
      "Optimal solution found.\n",
      "     pcost       dcost       gap    pres   dres\n",
      " 0:  3.0594e+03 -2.7240e+05  5e+05  4e-01  1e-12\n",
      " 1:  5.0911e+03 -4.0699e+04  5e+04  7e-03  1e-12\n",
      " 2: -3.2552e+02 -7.0010e+03  7e+03  5e-04  1e-12\n",
      " 3: -8.7310e+02 -2.6113e+03  2e+03  1e-04  1e-12\n",
      " 4: -1.0528e+03 -1.8205e+03  8e+02  4e-05  9e-13\n",
      " 5: -1.1047e+03 -1.6645e+03  6e+02  2e-05  1e-12\n",
      " 6: -1.2159e+03 -1.4970e+03  3e+02  1e-05  1e-12\n",
      " 7: -1.2812e+03 -1.4191e+03  1e+02  3e-06  1e-12\n",
      " 8: -1.3296e+03 -1.3668e+03  4e+01  2e-07  2e-12\n",
      " 9: -1.3401e+03 -1.3431e+03  3e+00  2e-08  2e-12\n",
      "10: -1.3414e+03 -1.3415e+03  1e-01  5e-10  1e-12\n",
      "11: -1.3414e+03 -1.3414e+03  1e-03  5e-12  2e-12\n",
      "Optimal solution found.\n",
      "     pcost       dcost       gap    pres   dres\n",
      " 0:  4.0170e+05 -2.6504e+07  5e+07  4e-01  1e-11\n",
      " 1:  5.7141e+05 -3.8697e+06  5e+06  8e-03  3e-11\n",
      " 2:  3.4917e+04 -5.7319e+05  6e+05  5e-04  1e-11\n",
      " 3: -7.3437e+03 -4.5188e+04  4e+04  1e-05  9e-12\n",
      " 4: -9.5230e+03 -3.3903e+04  2e+04  7e-06  9e-12\n",
      " 5: -1.0293e+04 -1.9030e+04  9e+03  1e-06  9e-12\n",
      " 6: -1.0636e+04 -1.7700e+04  7e+03  9e-07  1e-11\n",
      " 7: -1.1804e+04 -1.5808e+04  4e+03  3e-07  1e-11\n",
      " 8: -1.2438e+04 -1.5214e+04  3e+03  2e-07  1e-11\n",
      " 9: -1.2659e+04 -1.4331e+04  2e+03  5e-08  1e-11\n",
      "10: -1.3062e+04 -1.3778e+04  7e+02  7e-09  2e-11\n",
      "11: -1.3344e+04 -1.3364e+04  2e+01  1e-10  2e-11\n",
      "12: -1.3350e+04 -1.3351e+04  3e-01  2e-12  1e-11\n",
      "13: -1.3351e+04 -1.3351e+04  3e-03  1e-12  2e-11\n",
      "Optimal solution found.\n",
      "     pcost       dcost       gap    pres   dres\n",
      " 0:  4.1118e+07 -2.6430e+09  5e+09  4e-01  1e-10\n",
      " 1:  5.7751e+07 -3.8495e+08  5e+08  8e-03  6e-10\n",
      " 2:  4.2652e+06 -5.7772e+07  6e+07  5e-04  9e-11\n",
      " 3: -5.3476e+04 -3.1307e+06  3e+06  8e-06  8e-11\n",
      " 4: -7.7700e+04 -4.1111e+05  3e+05  9e-07  8e-11\n",
      " 5: -9.3300e+04 -3.8618e+05  3e+05  7e-07  1e-10\n",
      " 6: -1.0023e+05 -2.0280e+05  1e+05  1e-07  1e-10\n",
      " 7: -1.0970e+05 -1.9843e+05  9e+04  8e-08  1e-10\n",
      " 8: -1.1664e+05 -1.6687e+05  5e+04  3e-08  9e-11\n",
      " 9: -1.2581e+05 -1.5240e+05  3e+04  1e-08  1e-10\n",
      "10: -1.2514e+05 -1.4587e+05  2e+04  5e-09  1e-10\n",
      "11: -1.2959e+05 -1.3929e+05  1e+04  1e-09  1e-10\n",
      "12: -1.3335e+05 -1.3364e+05  3e+02  2e-11  1e-10\n",
      "13: -1.3344e+05 -1.3344e+05  4e+00  2e-11  2e-10\n",
      "14: -1.3344e+05 -1.3344e+05  4e-02  7e-12  1e-10\n",
      "Optimal solution found.\n",
      "     pcost       dcost       gap    pres   dres\n",
      " 0:  4.1213e+09 -2.6423e+11  5e+11  4e-01  1e-09\n",
      " 1:  5.7812e+09 -3.8475e+10  5e+10  8e-03  1e-07\n",
      " 2:  4.3422e+08 -5.7816e+09  6e+09  5e-04  6e-09\n",
      " 3:  1.4602e+06 -3.2244e+08  3e+08  9e-06  1e-09\n",
      " 4: -7.3821e+05 -7.3253e+06  7e+06  2e-07  9e-10\n",
      " 5: -9.0589e+05 -3.5710e+06  3e+06  7e-08  9e-10\n",
      " 6: -8.3158e+05 -2.3411e+06  2e+06  1e-08  1e-09\n",
      " 7: -1.0333e+06 -2.1788e+06  1e+06  7e-09  9e-10\n",
      " 8: -1.1440e+06 -1.7143e+06  6e+05  2e-09  1e-09\n",
      " 9: -1.2500e+06 -1.5237e+06  3e+05  6e-10  1e-09\n",
      "10: -1.2588e+06 -1.4410e+06  2e+05  2e-10  1e-09\n",
      "11: -1.3087e+06 -1.3714e+06  6e+04  3e-11  1e-09\n",
      "12: -1.3336e+06 -1.3357e+06  2e+03  1e-10  1e-09\n",
      "13: -1.3343e+06 -1.3344e+06  3e+01  8e-15  1e-09\n",
      "14: -1.3344e+06 -1.3344e+06  3e-01  2e-10  1e-09\n",
      "Optimal solution found.\n",
      "     pcost       dcost       gap    pres   dres\n",
      " 0:  4.1222e+11 -2.6422e+13  5e+13  4e-01  1e-08\n",
      " 1:  5.7818e+11 -3.8473e+12  5e+12  8e-03  9e-06\n",
      " 2:  4.3499e+10 -5.7820e+11  6e+11  5e-04  6e-07\n",
      " 3:  2.1388e+08 -3.2335e+10  3e+10  9e-06  1e-08\n",
      " 4: -7.3211e+06 -3.7374e+08  4e+08  1e-07  8e-09\n",
      " 5: -7.7060e+06 -4.2133e+07  3e+07  1e-08  9e-09\n",
      " 6: -9.2764e+06 -3.9187e+07  3e+07  8e-09  7e-09\n",
      " 7: -9.8614e+06 -2.0765e+07  1e+07  8e-10  9e-09\n",
      " 8: -1.0917e+07 -2.0103e+07  9e+06  7e-10  9e-09\n",
      " 9: -1.1695e+07 -1.6128e+07  4e+06  3e-10  9e-09\n",
      "10: -1.2467e+07 -1.5531e+07  3e+06  6e-10  1e-08\n",
      "11: -1.2474e+07 -1.4706e+07  2e+06  2e-09  1e-08\n",
      "12: -1.2918e+07 -1.4046e+07  1e+06  1e-09  1e-08\n",
      "13: -1.3324e+07 -1.3377e+07  5e+04  1e-09  2e-08\n",
      "14: -1.3343e+07 -1.3344e+07  9e+02  2e-09  2e-08\n",
      "15: -1.3343e+07 -1.3343e+07  9e+00  1e-10  2e-08\n",
      "Optimal solution found.\n",
      "     pcost       dcost       gap    pres   dres\n",
      " 0:  4.1223e+13 -2.6422e+15  5e+15  4e-01  1e-07\n",
      " 1:  5.7819e+13 -3.8473e+14  5e+14  8e-03  1e-03\n",
      " 2:  4.3506e+12 -5.7821e+13  6e+13  5e-04  9e-05\n",
      " 3:  2.2066e+10 -3.2345e+12  3e+12  9e-06  2e-06\n",
      " 4: -7.0962e+07 -3.3959e+10  3e+10  9e-08  8e-08\n",
      " 5: -7.3871e+07 -7.5046e+08  7e+08  6e-09  9e-08\n",
      " 6: -9.0122e+07 -3.5867e+08  3e+08  6e-09  9e-08\n",
      " 7: -8.0715e+07 -2.3846e+08  2e+08  1e-08  1e-07\n",
      " 8: -1.0293e+08 -2.1913e+08  1e+08  1e-08  1e-07\n",
      " 9: -1.1173e+08 -1.8043e+08  7e+07  1e-08  1e-07\n",
      "10: -1.2050e+08 -1.5905e+08  4e+07  9e-09  1e-07\n",
      "11: -1.2717e+08 -1.4610e+08  2e+07  6e-09  1e-07\n",
      "12: -1.3248e+08 -1.3477e+08  2e+06  7e-09  1e-07\n",
      "13: -1.3336e+08 -1.3355e+08  2e+05  4e-09  1e-07\n",
      "14: -1.3343e+08 -1.3344e+08  2e+03  2e-08  1e-07\n",
      "15: -1.3343e+08 -1.3343e+08  2e+01  1e-08  2e-07\n",
      "16: -1.3343e+08 -1.3343e+08  2e-01  2e-16  1e-07\n",
      "17: -1.3343e+08 -1.3343e+08  2e-03  1e-08  1e-07\n",
      "Terminated (singular KKT matrix).\n"
     ]
    }
   ],
   "source": [
    "#same code as for Data1 but for loop used to solve for different values of C\n",
    "a21 = tn2*X2\n",
    "a22 = a21.T\n",
    "H2 = np.dot(a21, a22)\n",
    "size2 = X2.shape[0]\n",
    "q2 = -1*np.ones((size2, 1))\n",
    "G2 = np.vstack((-1*np.eye(size2), np.eye(size2)))\n",
    "for c in C:\n",
    "    h2 = np.hstack((np.zeros((size2)), np.ones((size2))*c))\n",
    "    A2 = tn2.reshape(1, -1)\n",
    "    A2 = A2.astype('float')\n",
    "    b2_cvx = np.zeros(1)\n",
    "    sol2 = cvxopt.solvers.qp(cvxopt.matrix(H2), cvxopt.matrix(q2), cvxopt.matrix(G2), cvxopt.matrix(h2), cvxopt.matrix(A2), \n",
    "                        cvxopt.matrix(b2_cvx))\n",
    "    lambdas2 = np.array(sol2['x'])\n",
    "    w2 = np.dot(X2.T, (tn2*lambdas2))\n",
    "    tolerance2 = 0.0001\n",
    "    Ns2 = 0\n",
    "    xs2 = []\n",
    "    ys2 = []\n",
    "    for i in range(lambdas2.shape[0]):\n",
    "        if lambdas2[i]>=tolerance2:\n",
    "            Ns2 = Ns2 + 1\n",
    "            xs2.append(X2[i])\n",
    "            ys2.append(tn2[i])\n",
    "    xs2 = np.array(xs2)\n",
    "    ys2 = np.array(ys2)\n",
    "    bn2 = ys2 - np.dot(xs2, w2) \n",
    "    b2 = 0\n",
    "    for i in range(bn2.shape[0]):\n",
    "        b2 = b2 + bn2[i][0]\n",
    "    b2 = [b2/Ns2]\n",
    "    W.append(w2)\n",
    "    B.append(b2)\n",
    "    y_p2 = predict2(w2, b2, X2)\n",
    "    Y_P.append(y_p2)\n",
    "    count2 = 0\n",
    "    for i in range(y_p2.shape[0]):\n",
    "        if y_p2[i]>=1:\n",
    "            y_p2[i] = 1\n",
    "        else:\n",
    "            y_p2[i] = -1\n",
    "            \n",
    "        if tn2[i] == y_p2[i]:\n",
    "            count2 = count2 + 1\n",
    "    accuracy = (count2/y_p2.shape[0])*100\n",
    "    Accuracy.append(accuracy)"
   ]
  },
  {
   "cell_type": "code",
   "execution_count": 44,
   "metadata": {},
   "outputs": [
    {
     "name": "stdout",
     "output_type": "stream",
     "text": [
      "accuracy for 0.01 = 58.18181818181818\n",
      "accuracy for 0.1 = 70.9090909090909\n",
      "accuracy for 1 = 81.81818181818183\n",
      "accuracy for 10 = 83.63636363636363\n",
      "accuracy for 100 = 85.45454545454545\n",
      "accuracy for 1000 = 85.45454545454545\n",
      "accuracy for 10000 = 89.0909090909091\n",
      "accuracy for 100000 = 90.9090909090909\n",
      "accuracy for 1000000 = 90.9090909090909\n",
      "accuracy for 10000000 = 85.45454545454545\n"
     ]
    }
   ],
   "source": [
    "for i in range(len(Accuracy)):\n",
    "    print(\"accuracy for\", C[i], \"=\", Accuracy[i])"
   ]
  },
  {
   "cell_type": "code",
   "execution_count": 45,
   "metadata": {},
   "outputs": [],
   "source": [
    "for i in range(len(Y_P)):\n",
    "    Y_P[i] = Y_P[i].reshape(Y_P[i].shape[0], )"
   ]
  },
  {
   "cell_type": "code",
   "execution_count": 46,
   "metadata": {},
   "outputs": [
    {
     "data": {
      "image/png": "[encoded data removed]",
      "text/plain": [
       "<Figure size 432x432 with 1 Axes>"
      ]
     },
     "metadata": {
      "needs_background": "light"
     },
     "output_type": "display_data"
    },
    {
     "data": {
      "image/png": "[encoded data removed]",
      "text/plain": [
       "<Figure size 432x432 with 1 Axes>"
      ]
     },
     "metadata": {
      "needs_background": "light"
     },
     "output_type": "display_data"
    },
    {
     "data": {
      "image/png": "[encoded data removed]",
      "text/plain": [
       "<Figure size 432x432 with 1 Axes>"
      ]
     },
     "metadata": {
      "needs_background": "light"
     },
     "output_type": "display_data"
    },
    {
     "data": {
      "image/png": "[encoded data removed]",
      "text/plain": [
       "<Figure size 432x432 with 1 Axes>"
      ]
     },
     "metadata": {
      "needs_background": "light"
     },
     "output_type": "display_data"
    },
    {
     "data": {
      "image/png": "[encoded data removed]",
      "text/plain": [
       "<Figure size 432x432 with 1 Axes>"
      ]
     },
     "metadata": {
      "needs_background": "light"
     },
     "output_type": "display_data"
    },
    {
     "data": {
      "image/png": "[encoded data removed]",
      "text/plain": [
       "<Figure size 432x432 with 1 Axes>"
      ]
     },
     "metadata": {
      "needs_background": "light"
     },
     "output_type": "display_data"
    },
    {
     "data": {
      "image/png": "[encoded data removed]",
      "text/plain": [
       "<Figure size 432x432 with 1 Axes>"
      ]
     },
     "metadata": {
      "needs_background": "light"
     },
     "output_type": "display_data"
    },
    {
     "data": {
      "image/png": "[encoded data removed]",
      "text/plain": [
       "<Figure size 432x432 with 1 Axes>"
      ]
     },
     "metadata": {
      "needs_background": "light"
     },
     "output_type": "display_data"
    },
    {
     "data": {
      "image/png": "[encoded data removed]",
      "text/plain": [
       "<Figure size 432x432 with 1 Axes>"
      ]
     },
     "metadata": {
      "needs_background": "light"
     },
     "output_type": "display_data"
    },
    {
     "data": {
      "image/png": "[encoded data removed]",
      "text/plain": [
       "<Figure size 432x432 with 1 Axes>"
      ]
     },
     "metadata": {
      "needs_background": "light"
     },
     "output_type": "display_data"
    }
   ],
   "source": [
    "#scatter plot with decision boundary on predicted values for different values of C\n",
    "for i in range(len(C)):\n",
    "    fig = plt.figure(figsize = (6, 6))\n",
    "    c = -B[i][0]/W[i][1][0]\n",
    "    slope = -W[i][0][0]/W[i][1][0]\n",
    "    c11 = c + math.sqrt((1 + slope*slope))/math.sqrt((W[i][0][0]*W[i][0][0] + W[i][1][0]*W[i][1][0]))\n",
    "    c12 = c - math.sqrt((1 + slope*slope))/math.sqrt((W[i][0][0]*W[i][0][0] + W[i][1][0]*W[i][1][0]))\n",
    "    yl = slope*xl + c\n",
    "    yl1 = slope*xl + c11\n",
    "    yl2 = slope*xl + c12\n",
    "    plt.plot(xl, yl, \"k\", lw = 1, ls = \"-\")\n",
    "    plt.plot(xl, yl1, \"k\", lw = 1, ls = \"--\")\n",
    "    plt.plot(xl, yl2, \"k\", lw = 1, ls = \"--\")\n",
    "\n",
    "    plt.scatter(*X2[Y_P[i] == (-1)].T, s = 20, color = \"blue\", alpha = 1.0)\n",
    "    plt.scatter(*X2[Y_P[i] == 1].T, s = 20, color = \"red\", alpha = 1.0)\n",
    "    plt.xlim(0.0, 5.0)\n",
    "    plt.ylim(1.0, 5.0)\n",
    "    plt.ylabel(r'$Variable 2$')\n",
    "    plt.xlabel(r'$Variable 1$')\n",
    "    plt.title(\"SVM predicted Data 2 with C = \" + str(C[i])) \n",
    "    #image_name = \"C:\\Me\\sem6\\cll788\\A3\\Data2_scatter\" + str(C[i]) + \".jpeg\"\n",
    "    #plt.savefig(image_name)\n",
    "    plt.show()"
   ]
  },
  {
   "cell_type": "code",
   "execution_count": null,
   "metadata": {},
   "outputs": [],
   "source": []
  },
  {
   "cell_type": "code",
   "execution_count": null,
   "metadata": {},
   "outputs": [],
   "source": []
  },
  {
   "cell_type": "code",
   "execution_count": null,
   "metadata": {},
   "outputs": [],
   "source": []
  }
 ],
 "metadata": {
  "kernelspec": {
   "display_name": "Python 3",
   "language": "python",
   "name": "python3"
  },
  "language_info": {
   "codemirror_mode": {
    "name": "ipython",
    "version": 3
   },
   "file_extension": ".py",
   "mimetype": "text/x-python",
   "name": "python",
   "nbconvert_exporter": "python",
   "pygments_lexer": "ipython3",
   "version": "3.7.3"
  }
 },
 "nbformat": 4,
 "nbformat_minor": 4
}
